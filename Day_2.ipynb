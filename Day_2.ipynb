{
 "cells": [
  {
   "cell_type": "code",
   "execution_count": null,
   "id": "dec2df1c",
   "metadata": {},
   "outputs": [],
   "source": [
    "  # variable Declarations"
   ]
  },
  {
   "cell_type": "code",
   "execution_count": 5,
   "id": "48d25b7c",
   "metadata": {},
   "outputs": [],
   "source": [
    "x=5\n",
    "y=6"
   ]
  },
  {
   "cell_type": "code",
   "execution_count": 11,
   "id": "f9fcb9b8",
   "metadata": {},
   "outputs": [
    {
     "name": "stdout",
     "output_type": "stream",
     "text": [
      "Addition of 5  &  6 is =  11\n"
     ]
    }
   ],
   "source": [
    "   # Addition of x & y\n",
    "z=x+y\n",
    "print(\"Addition of\" ,x ,\" & \",y ,\"is = \" ,z)"
   ]
  },
  {
   "cell_type": "code",
   "execution_count": null,
   "id": "46f2df3b",
   "metadata": {},
   "outputs": [],
   "source": [
    " # string Declarations.\n",
    " # string is immutable datatype "
   ]
  },
  {
   "cell_type": "code",
   "execution_count": 14,
   "id": "6d5f96a5",
   "metadata": {},
   "outputs": [
    {
     "name": "stdout",
     "output_type": "stream",
     "text": [
      "nilofar\n"
     ]
    }
   ],
   "source": [
    " # By single quotes\n",
    "    \n",
    "str1='nilofar'\n",
    "print(str1)"
   ]
  },
  {
   "cell_type": "code",
   "execution_count": 15,
   "id": "a06871d9",
   "metadata": {},
   "outputs": [
    {
     "name": "stdout",
     "output_type": "stream",
     "text": [
      "hundekari\n"
     ]
    }
   ],
   "source": [
    " # by Double quotes\n",
    "    \n",
    "str2=\"hundekari\"    \n",
    "print(str2)"
   ]
  },
  {
   "cell_type": "code",
   "execution_count": 18,
   "id": "4bfa5772",
   "metadata": {},
   "outputs": [],
   "source": [
    " # understanding string methods    "
   ]
  },
  {
   "cell_type": "code",
   "execution_count": 19,
   "id": "2c43ffd8",
   "metadata": {},
   "outputs": [
    {
     "data": {
      "text/plain": [
       "str"
      ]
     },
     "execution_count": 19,
     "metadata": {},
     "output_type": "execute_result"
    }
   ],
   "source": [
    "  # type\n",
    "    \n",
    "type(str1)"
   ]
  },
  {
   "cell_type": "code",
   "execution_count": 21,
   "id": "beefdac6",
   "metadata": {},
   "outputs": [
    {
     "name": "stdout",
     "output_type": "stream",
     "text": [
      "Name in Title Case :  Nilofar Hundekari\n"
     ]
    }
   ],
   "source": [
    "  # title()  to display string every word 1st character in Capitle Case\n",
    "name=\"nilofar hundekari\"   \n",
    "\n",
    "print(\"Name in Title Case : \", name.title())\n",
    "    "
   ]
  },
  {
   "cell_type": "code",
   "execution_count": 22,
   "id": "3b0c1f90",
   "metadata": {},
   "outputs": [
    {
     "name": "stdout",
     "output_type": "stream",
     "text": [
      "Name in Upper Case :  NILOFAR HUNDEKARI\n"
     ]
    }
   ],
   "source": [
    " # upper() to display string in Capitle Case\n",
    "    \n",
    "print(\"Name in Upper Case : \",name.upper())    "
   ]
  },
  {
   "cell_type": "code",
   "execution_count": 25,
   "id": "e1da1dba",
   "metadata": {},
   "outputs": [
    {
     "name": "stdout",
     "output_type": "stream",
     "text": [
      "Name in lower Case :  nilofar hundekari\n"
     ]
    }
   ],
   "source": [
    " # lower() to display sting in Lower Case\n",
    "    \n",
    "print(\"Name in lower Case : \", name.lower())    "
   ]
  },
  {
   "cell_type": "code",
   "execution_count": null,
   "id": "ab65b1e7",
   "metadata": {},
   "outputs": [],
   "source": []
  }
 ],
 "metadata": {
  "kernelspec": {
   "display_name": "Python 3 (ipykernel)",
   "language": "python",
   "name": "python3"
  },
  "language_info": {
   "codemirror_mode": {
    "name": "ipython",
    "version": 3
   },
   "file_extension": ".py",
   "mimetype": "text/x-python",
   "name": "python",
   "nbconvert_exporter": "python",
   "pygments_lexer": "ipython3",
   "version": "3.11.3"
  }
 },
 "nbformat": 4,
 "nbformat_minor": 5
}
